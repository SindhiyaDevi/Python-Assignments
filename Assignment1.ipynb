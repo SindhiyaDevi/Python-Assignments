{
 "cells": [
  {
   "cell_type": "code",
   "execution_count": null,
   "id": "9c53ad50",
   "metadata": {},
   "outputs": [],
   "source": [
    "#Write a Python program to count the number of even and odd numbers from a series of numbers.\n",
    "\n",
    "def odd_even(tuple1):\n",
    "    count_odd = 0\n",
    "    count_even = 0\n",
    "    for i in range (len(tuple1)):\n",
    "        if int(tuple1[i])%2==0:\n",
    "            count_even=count_even+1\n",
    "        else:\n",
    "            print(\"The number is odd\")\n",
    "            count_odd=count_odd+1\n",
    "    print(count_even)\n",
    "    print(count_odd)\n",
    "        \n",
    "s1 = tuple(input(\"Enter list of numbers\").split(','))\n",
    "odd_even(s1)        "
   ]
  },
  {
   "cell_type": "code",
   "execution_count": null,
   "id": "75e0d0b9",
   "metadata": {},
   "outputs": [],
   "source": [
    "#Write a Python program that accepts a word from the user and reverse it.\n",
    "\n",
    "def mirror(s):\n",
    "    for i in range(s):\n",
    "        print(s[::-1])\n",
    "s = input(\"Enter a string\")\n",
    "mirror(s)"
   ]
  },
  {
   "cell_type": "code",
   "execution_count": null,
   "id": "d0afbcee",
   "metadata": {},
   "outputs": [],
   "source": [
    "def ulcount(s):\n",
    "    u = 0\n",
    "    l = 0\n",
    "    for i in range(len(s)):\n",
    "        if s[i].isupper():\n",
    "            u+=1\n",
    "        if s[i].islower():\n",
    "            l+=1\n",
    "    print(\"upper count\", u)\n",
    "    print(\"Lower count\", l)\n",
    "ulcount(SindhiyaDevi)\n",
    "            \n",
    "            "
   ]
  },
  {
   "cell_type": "code",
   "execution_count": null,
   "id": "0c3a34a3",
   "metadata": {},
   "outputs": [],
   "source": []
  }
 ],
 "metadata": {
  "kernelspec": {
   "display_name": "Python 3 (ipykernel)",
   "language": "python",
   "name": "python3"
  },
  "language_info": {
   "codemirror_mode": {
    "name": "ipython",
    "version": 3
   },
   "file_extension": ".py",
   "mimetype": "text/x-python",
   "name": "python",
   "nbconvert_exporter": "python",
   "pygments_lexer": "ipython3",
   "version": "3.11.2"
  }
 },
 "nbformat": 4,
 "nbformat_minor": 5
}
