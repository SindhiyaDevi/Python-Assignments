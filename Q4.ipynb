{
 "cells": [
  {
   "cell_type": "code",
   "execution_count": 1,
   "id": "7768924a",
   "metadata": {},
   "outputs": [],
   "source": [
    "#Write a program to print the first non-repeated character from a string?"
   ]
  },
  {
   "cell_type": "code",
   "execution_count": 4,
   "id": "1e5a2d28",
   "metadata": {},
   "outputs": [
    {
     "name": "stdout",
     "output_type": "stream",
     "text": [
      "Enter the word to findExcercise\n",
      "The first non-repeated character in 'Excercise' is 'E'\n"
     ]
    }
   ],
   "source": [
    "def non_repeated_char(string):\n",
    "    count = {}\n",
    "    for char in string:\n",
    "        if char in count:\n",
    "            count[char] += 1\n",
    "        else:\n",
    "            count[char] = 1\n",
    "    for char in string:\n",
    "        if count[char] == 1:\n",
    "            return char\n",
    "    return None\n",
    "string = input(\"Enter the word to find\")\n",
    "result = non_repeated_char(string)\n",
    "if result:\n",
    "    print(\"The first non-repeated character in '{}' is '{}'\".format(string, result))\n",
    "else:\n",
    "    print(\"No non-repeated character found in '{}'\".format(string))"
   ]
  },
  {
   "cell_type": "code",
   "execution_count": null,
   "id": "1380e8a0",
   "metadata": {},
   "outputs": [],
   "source": []
  }
 ],
 "metadata": {
  "kernelspec": {
   "display_name": "Python 3 (ipykernel)",
   "language": "python",
   "name": "python3"
  },
  "language_info": {
   "codemirror_mode": {
    "name": "ipython",
    "version": 3
   },
   "file_extension": ".py",
   "mimetype": "text/x-python",
   "name": "python",
   "nbconvert_exporter": "python",
   "pygments_lexer": "ipython3",
   "version": "3.11.2"
  }
 },
 "nbformat": 4,
 "nbformat_minor": 5
}
