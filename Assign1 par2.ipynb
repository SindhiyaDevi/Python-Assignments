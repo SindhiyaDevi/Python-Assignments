{
 "cells": [
  {
   "cell_type": "code",
   "execution_count": 1,
   "id": "fd2d3c8d",
   "metadata": {},
   "outputs": [
    {
     "name": "stdout",
     "output_type": "stream",
     "text": [
      "Enter the string to swap:SinDhiya\n",
      "sINdHIYA\n"
     ]
    }
   ],
   "source": [
    "#You are given a string and your task is to swap cases. \n",
    "#In other words, convert all lowercase letters to uppercase letters and vice versa.\n",
    "def swap(s):\n",
    "    s1 = \"\"\n",
    "    for i in range(len(s)):\n",
    "        if s[i].isupper()==True:\n",
    "            s1+=(s[i].lower())\n",
    "        else:\n",
    "            s1+=(s[i].upper())\n",
    "    return s1\n",
    "            \n",
    "s = input('Enter the string to swap:')\n",
    "print(swap(s))\n",
    "            "
   ]
  },
  {
   "cell_type": "code",
   "execution_count": 6,
   "id": "dc3092cd",
   "metadata": {},
   "outputs": [
    {
     "name": "stdout",
     "output_type": "stream",
     "text": [
      "a: 3\n",
      "b: 4\n"
     ]
    },
    {
     "data": {
      "text/plain": [
       "12"
      ]
     },
     "execution_count": 6,
     "metadata": {},
     "output_type": "execute_result"
    }
   ],
   "source": [
    "def add(a,b):\n",
    "    return a+b\n",
    "def diff(a,b):\n",
    "    return a-b\n",
    "def mul(a,b):\n",
    "    return a*b\n",
    "\n",
    "a = int(input(\"a: \"))\n",
    "b = int(input(\"b: \"))\n",
    "add(a,b)\n",
    "diff(a,b)\n",
    "mul(a,b)\n",
    "\n"
   ]
  },
  {
   "cell_type": "code",
   "execution_count": null,
   "id": "10d403e3",
   "metadata": {},
   "outputs": [],
   "source": [
    "#The provided code stub reads two integers,  and , from STDIN. #Add logic to print two lines. The first line should contain the result of integer \n",
    "#division,  // . The second line should contain the result of float division,  / .\n",
    "#No rounding or formatting is necessary.\n",
    "\n",
    "def floor(a,b):\n",
    "    return a//b\n",
    "def div(c,d):\n",
    "    return c/d\n",
    "\n",
    "a = int(input(\"a: \"))\n",
    "b = int(input(\"b: \"))\n",
    "c = int(input(\"c: \"))\n",
    "d = int(input(\"d: \"))\n",
    "\n",
    "floor(a,b)\n",
    "div(c,d)"
   ]
  },
  {
   "cell_type": "code",
   "execution_count": null,
   "id": "990d8aad",
   "metadata": {},
   "outputs": [],
   "source": [
    "#Given an integer, , perform the following conditional actions:\n",
    "\n",
    "#If  is odd, print Weird\n",
    "# If  is even and in the inclusive range of  to , print Not Weird\n",
    "# If  is even and in the inclusive range of  to , print Weird\n",
    "# If  is even and greater than , print Not Weird\n",
    "\n",
    "n = int(input(\"n: \")\n",
    "if n%2 != 0:\n",
    "    print(\"Weird\")\n",
    "elif n%2 == 0 and n>2 and n<=5:\n",
    "    print(\"Not Weird\")\n",
    "elif n%2 ==0 and n > 6 and n <=20:\n",
    "    print(\"Weird\")\n",
    "else:\n",
    "    print(\"Not Weird\")"
   ]
  },
  {
   "cell_type": "code",
   "execution_count": null,
   "id": "879f3b08",
   "metadata": {},
   "outputs": [],
   "source": [
    "def floor(a,b):\n",
    "    return a//b\n",
    "def div(c,d):\n",
    "    return c/d\n",
    "\n",
    "a = int(input(\"a: \"))\n",
    "b = int(input(\"b: \"))\n",
    "c = int(input(\"c: \"))\n",
    "d = int(input(\"d: \"))\n",
    "\n",
    "floor(a,b)\n",
    "div(c,d)"
   ]
  },
  {
   "cell_type": "code",
   "execution_count": null,
   "id": "3167f557",
   "metadata": {},
   "outputs": [],
   "source": []
  },
  {
   "cell_type": "code",
   "execution_count": null,
   "id": "bc49f782",
   "metadata": {},
   "outputs": [],
   "source": []
  }
 ],
 "metadata": {
  "kernelspec": {
   "display_name": "Python 3 (ipykernel)",
   "language": "python",
   "name": "python3"
  },
  "language_info": {
   "codemirror_mode": {
    "name": "ipython",
    "version": 3
   },
   "file_extension": ".py",
   "mimetype": "text/x-python",
   "name": "python",
   "nbconvert_exporter": "python",
   "pygments_lexer": "ipython3",
   "version": "3.11.2"
  }
 },
 "nbformat": 4,
 "nbformat_minor": 5
}
