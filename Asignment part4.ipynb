{
 "cells": [
  {
   "cell_type": "code",
   "execution_count": 15,
   "id": "034abdad",
   "metadata": {},
   "outputs": [
    {
     "name": "stdout",
     "output_type": "stream",
     "text": [
      "Enter the no of students3\n",
      "Enter the student nameSindhia\n",
      "Enter the grade90\n",
      "Enter the student nameAvaneeth 99\n",
      "Enter the grade99\n",
      "Enter the student nameBrama \n",
      "Enter the grade90\n",
      "[['Sindhia', '90'], ['Avaneeth 99', '99'], ['Brama ', '90']]\n",
      "[['Sindhia', '90'], ['Brama ', '90'], ['Avaneeth 99', '99']]\n",
      "['Brama ', '90']\n"
     ]
    }
   ],
   "source": [
    "    n = int(input(\"Enter the no of students\"))\n",
    "    list1 = []\n",
    "    for i in range(n):\n",
    "        name = input(\"Enter the student name\")\n",
    "        grade = input(\"Enter the grade\")\n",
    "        list1.append([name,grade])\n",
    "print(list1)\n",
    "\n",
    "for i in range(n-1):\n",
    "    for j in range(n-i-1):\n",
    "        if list1[j][1]>list1[j+1][1]:\n",
    "            list1[j],list1[j+1] = list1[j+1],list1[j]\n",
    "print(list1)\n",
    "a = len(list1)\n",
    "if list1[a-1]!=list1[a-2]:\n",
    "    print(list1[a-2])\n",
    "else:\n",
    "    list1[a-2]!=lis1[a-3]\n",
    "    print(list1[a-3])\n",
    "    "
   ]
  },
  {
   "cell_type": "code",
   "execution_count": 19,
   "id": "0d1dbb55",
   "metadata": {},
   "outputs": [
    {
     "name": "stdout",
     "output_type": "stream",
     "text": [
      "1\n",
      "4\n",
      "9\n",
      "16\n",
      "25\n"
     ]
    }
   ],
   "source": [
    "#The provided code stub reads and integer, , from STDIN. For all non-negative integers , print .\n",
    "\n",
    "#The list of non-negative integers that are less than  is . Print the square of each number on a separate l\n",
    "\n",
    "def squr(n):\n",
    "    for i in range(1,n+1):\n",
    "        print(i**2)\n",
    "squr(5)\n"
   ]
  },
  {
   "cell_type": "code",
   "execution_count": 25,
   "id": "c80e32a0",
   "metadata": {},
   "outputs": [
    {
     "name": "stdout",
     "output_type": "stream",
     "text": [
      "leap year\n"
     ]
    }
   ],
   "source": [
    "#leap year\n",
    "\n",
    "def leap(y):\n",
    "    if y%4==0:\n",
    "        if y%100==0:\n",
    "            if y%400==0:\n",
    "                print(\"leap year\")\n",
    "        else:\n",
    "            print(\"leap year\")\n",
    "    else:\n",
    "        print(\"Not a leap year\")\n",
    "    \n",
    "leap(2000)   \n",
    "    \n",
    "    \n",
    "    \n",
    "    \n",
    "    \n",
    "    "
   ]
  },
  {
   "cell_type": "code",
   "execution_count": 30,
   "id": "eebb8650",
   "metadata": {},
   "outputs": [
    {
     "name": "stdout",
     "output_type": "stream",
     "text": [
      "Avaneeth\n",
      "e\n",
      "Avaneeth string need to be find: e\n"
     ]
    },
    {
     "data": {
      "text/plain": [
       "2"
      ]
     },
     "execution_count": 30,
     "metadata": {},
     "output_type": "execute_result"
    }
   ],
   "source": [
    "#Find a string\n",
    "\n",
    "def str(a,b):\n",
    "    print(f\"{a} string need to be find: {b}\")\n",
    "    n = len(a)\n",
    "    count = 0\n",
    "    for i in range(n):\n",
    "        if a[i]==b:\n",
    "            count+=1\n",
    "    return count\n",
    "a = input(\"\")\n",
    "b = input(\"\")\n",
    "str(a,b)\n",
    "    \n",
    "    "
   ]
  },
  {
   "cell_type": "code",
   "execution_count": 6,
   "id": "74a34ad4",
   "metadata": {},
   "outputs": [
    {
     "name": "stdout",
     "output_type": "stream",
     "text": [
      "[1, 3, 2]\n",
      "[1, 3, 9, 1]\n",
      "[1, 3, 9]\n",
      "[1, 3, 9]\n",
      "[9, 3, 1]\n"
     ]
    }
   ],
   "source": [
    "list1 = []\n",
    "list1.append(1)\n",
    "list1.append(2)\n",
    "list1.insert(1,3)\n",
    "print(list1)\n",
    "list1.remove(2)\n",
    "list1.append(9)\n",
    "list1.append(1)\n",
    "print(list1)\n",
    "list1.pop()\n",
    "print(list1)\n",
    "for i in range(len(list1)-1):\n",
    "    if list1[i]>list1[i+1]:\n",
    "        list1[i],list1[i+1]=list1[i+1],list1[i]\n",
    "print(list1)\n",
    "print(list1[::-1])\n"
   ]
  },
  {
   "cell_type": "code",
   "execution_count": null,
   "id": "eba5f76b",
   "metadata": {},
   "outputs": [],
   "source": [
    "n = int(input(\"Enter the no of students\"))\n",
    "name = input(\"Enter the student name\").split(\",\")\n",
    "grade = input(\"Enter the grade\").split(\",\")\n",
    "for i in range(n):\n",
    "    list1 = list(([name[i],int(grade[i])]))\n",
    "print(list1)"
   ]
  },
  {
   "cell_type": "code",
   "execution_count": null,
   "id": "009e26d4",
   "metadata": {},
   "outputs": [],
   "source": [
    "#Write a Python program to count the number of even and odd numbers from a series of numbers.\n",
    "\n",
    "def odd_even(tuple1):\n",
    "    for i in range (len(tuple1)):\n",
    "        count_even = 0\n",
    "        count_odd = 0\n",
    "        if int(tuple1[i])%2==0:\n",
    "            print(\"the number is even\")\n",
    "            count_even+=1\n",
    "        else:\n",
    "            print(\"The number is odd\")\n",
    "            count_odd+=1\n",
    "    print(\"Even numbers count\", count_even)\n",
    "    print(\"odd numbers count\", count_odd)\n",
    "    \n",
    "s1 = tuple(input(\"Enter list of numbers\").split(',)\n",
    "odd_even(s1)                                             "
   ]
  },
  {
   "cell_type": "code",
   "execution_count": null,
   "id": "6df17209",
   "metadata": {},
   "outputs": [],
   "source": []
  },
  {
   "cell_type": "code",
   "execution_count": null,
   "id": "292d3cd5",
   "metadata": {},
   "outputs": [],
   "source": []
  }
 ],
 "metadata": {
  "kernelspec": {
   "display_name": "Python 3 (ipykernel)",
   "language": "python",
   "name": "python3"
  },
  "language_info": {
   "codemirror_mode": {
    "name": "ipython",
    "version": 3
   },
   "file_extension": ".py",
   "mimetype": "text/x-python",
   "name": "python",
   "nbconvert_exporter": "python",
   "pygments_lexer": "ipython3",
   "version": "3.11.2"
  }
 },
 "nbformat": 4,
 "nbformat_minor": 5
}
