{
 "cells": [
  {
   "cell_type": "code",
   "execution_count": 1,
   "id": "20367290",
   "metadata": {},
   "outputs": [],
   "source": [
    "# Write a program to convert prefix expression to infix expression."
   ]
  },
  {
   "cell_type": "code",
   "execution_count": 2,
   "id": "6c11bfa3",
   "metadata": {},
   "outputs": [
    {
     "name": "stdout",
     "output_type": "stream",
     "text": [
      "((3 + 1) * 0)\n"
     ]
    }
   ],
   "source": [
    "def prefix_to_infix(prefix):\n",
    "    stack = []\n",
    "    operators = set(['+', '-', '*', '/', '^'])\n",
    "    for char in reversed(prefix):\n",
    "        if char in operators:\n",
    "            op1 = stack.pop()\n",
    "            op2 = stack.pop()\n",
    "            infix = f\"({op1} {char} {op2})\"\n",
    "            stack.append(infix)\n",
    "        else:\n",
    "            stack.append(char)\n",
    "    return stack.pop()\n",
    "\n",
    "# Example usage\n",
    "prefix = \"*+310\"\n",
    "infix = prefix_to_infix(prefix)\n",
    "print(infix) "
   ]
  },
  {
   "cell_type": "code",
   "execution_count": null,
   "id": "cf12bdd6",
   "metadata": {},
   "outputs": [],
   "source": []
  }
 ],
 "metadata": {
  "kernelspec": {
   "display_name": "Python 3 (ipykernel)",
   "language": "python",
   "name": "python3"
  },
  "language_info": {
   "codemirror_mode": {
    "name": "ipython",
    "version": 3
   },
   "file_extension": ".py",
   "mimetype": "text/x-python",
   "name": "python",
   "nbconvert_exporter": "python",
   "pygments_lexer": "ipython3",
   "version": "3.11.2"
  }
 },
 "nbformat": 4,
 "nbformat_minor": 5
}
