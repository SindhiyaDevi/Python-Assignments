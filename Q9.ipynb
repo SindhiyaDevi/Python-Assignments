{
 "cells": [
  {
   "cell_type": "code",
   "execution_count": 1,
   "id": "decef06e",
   "metadata": {},
   "outputs": [],
   "source": [
    "# Write a program to reverse a stack."
   ]
  },
  {
   "cell_type": "code",
   "execution_count": 3,
   "id": "5ee85bd2",
   "metadata": {},
   "outputs": [
    {
     "name": "stdout",
     "output_type": "stream",
     "text": [
      "Number of elements to be added1,2,3,4,5\n",
      "[5, 4, 3, 2, 1]\n"
     ]
    }
   ],
   "source": [
    "def reverse_stack(stack):\n",
    "    if not stack:\n",
    "        return\n",
    "    temp = stack.pop()\n",
    "    reverse_stack(stack)\n",
    "    insert_at_bottom(stack, temp)\n",
    "\n",
    "def insert_at_bottom(stack, item):\n",
    "    if not stack:\n",
    "        stack.append(item)\n",
    "        return\n",
    "    temp = stack.pop()\n",
    "    insert_at_bottom(stack, item)\n",
    "    stack.append(temp)\n",
    "    \n",
    "s = input(\"Number of elements to be added\").split(',')\n",
    "reverse_stack(s)\n",
    "print(stack) "
   ]
  },
  {
   "cell_type": "code",
   "execution_count": null,
   "id": "4c0e3962",
   "metadata": {},
   "outputs": [],
   "source": []
  }
 ],
 "metadata": {
  "kernelspec": {
   "display_name": "Python 3 (ipykernel)",
   "language": "python",
   "name": "python3"
  },
  "language_info": {
   "codemirror_mode": {
    "name": "ipython",
    "version": 3
   },
   "file_extension": ".py",
   "mimetype": "text/x-python",
   "name": "python",
   "nbconvert_exporter": "python",
   "pygments_lexer": "ipython3",
   "version": "3.11.2"
  }
 },
 "nbformat": 4,
 "nbformat_minor": 5
}
