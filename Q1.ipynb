{
 "cells": [
  {
   "cell_type": "code",
   "execution_count": 1,
   "id": "aaaa077c",
   "metadata": {},
   "outputs": [],
   "source": [
    "#Q1. Write a program to find all pairs of an integer array whose sum is equal to a given number?"
   ]
  },
  {
   "cell_type": "code",
   "execution_count": 15,
   "id": "63190f1b",
   "metadata": {},
   "outputs": [
    {
     "name": "stdout",
     "output_type": "stream",
     "text": [
      "Number of elements to be added4,3,5,2,3\n",
      "Enter the nume=ber to find the sum pair8\n",
      "[4, 3, 5, 2, 3]\n"
     ]
    },
    {
     "data": {
      "text/plain": [
       "(3, 5)"
      ]
     },
     "execution_count": 15,
     "metadata": {},
     "output_type": "execute_result"
    }
   ],
   "source": [
    "class Array:\n",
    "    def __init__ (self):\n",
    "        self.data =[]\n",
    "    def push(self,elements):\n",
    "        a = list(map(int, elements))\n",
    "        print(a)\n",
    "        self.data = [x for x in a]   \n",
    "    def display(self):\n",
    "        print(self.data)\n",
    "    def find_pairs(self, sum_pair):\n",
    "        for i in range(len(self.data)):\n",
    "            for j in range(i+1, len(self.data)):\n",
    "                if self.data[i]+self.data[j]==sum_pair:\n",
    "                    return self.data[i], self.data[j]\n",
    "    \n",
    "s = input(\"Number of elements to be added\").split(',')\n",
    "p= int(input(\"Enter the nume=ber to find the sum pair\"))\n",
    "c =Array()\n",
    "c.push(s)\n",
    "c.find_pairs(p)"
   ]
  },
  {
   "cell_type": "code",
   "execution_count": null,
   "id": "c8e3e112",
   "metadata": {},
   "outputs": [],
   "source": []
  },
  {
   "cell_type": "code",
   "execution_count": null,
   "id": "2ba10978",
   "metadata": {},
   "outputs": [],
   "source": []
  },
  {
   "cell_type": "code",
   "execution_count": null,
   "id": "7abee1b1",
   "metadata": {},
   "outputs": [],
   "source": []
  }
 ],
 "metadata": {
  "kernelspec": {
   "display_name": "Python 3 (ipykernel)",
   "language": "python",
   "name": "python3"
  },
  "language_info": {
   "codemirror_mode": {
    "name": "ipython",
    "version": 3
   },
   "file_extension": ".py",
   "mimetype": "text/x-python",
   "name": "python",
   "nbconvert_exporter": "python",
   "pygments_lexer": "ipython3",
   "version": "3.11.2"
  }
 },
 "nbformat": 4,
 "nbformat_minor": 5
}
