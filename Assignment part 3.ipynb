{
 "cells": [
  {
   "cell_type": "code",
   "execution_count": 2,
   "id": "3610ed8f",
   "metadata": {},
   "outputs": [
    {
     "name": "stdout",
     "output_type": "stream",
     "text": [
      "a: 10\n",
      "b: 5\n",
      "c: 8\n",
      "d: 5\n",
      "2\n",
      "1.6\n"
     ]
    }
   ],
   "source": [
    "def floor(a,b):\n",
    "    return a//b\n",
    "def div(c,d):\n",
    "    return c/d\n",
    "\n",
    "a = int(input(\"a: \"))\n",
    "b = int(input(\"b: \"))\n",
    "c = int(input(\"c: \"))\n",
    "d = int(input(\"d: \"))\n",
    "\n",
    "print(floor(a,b))\n",
    "print(div(c,d))"
   ]
  },
  {
   "cell_type": "code",
   "execution_count": 5,
   "id": "70bb46e6",
   "metadata": {},
   "outputs": [
    {
     "name": "stdout",
     "output_type": "stream",
     "text": [
      "n: 3\n",
      "Weird\n"
     ]
    }
   ],
   "source": [
    "n = int(input(\"n: \"))\n",
    "if n%2 != 0:\n",
    "    print(\"Weird\")\n",
    "elif n%2 == 0 and n>2 and n<=5:\n",
    "    print(\"Not Weird\")\n",
    "elif n%2 ==0 and n > 6 and n <=20:\n",
    "    print(\"Weird\")\n",
    "else:\n",
    "    print(\"Not Weird\")"
   ]
  },
  {
   "cell_type": "code",
   "execution_count": null,
   "id": "a7d22a05",
   "metadata": {},
   "outputs": [],
   "source": [
    "#Given the names and grades for each student in a class of  students, store them in a nested list and print the name(s) of \n",
    "#any student(s) having the second lowest grade.\n",
    "\n",
    "\n",
    "n  = int(input(\"Number of students\"))\n",
    "for i in range(n):\n",
    "    a =input(\" \")\n",
    "    b = input(\" \")\n",
    "print(list([a,b])\n",
    "    "
   ]
  },
  {
   "cell_type": "code",
   "execution_count": null,
   "id": "398a20cc",
   "metadata": {},
   "outputs": [],
   "source": []
  }
 ],
 "metadata": {
  "kernelspec": {
   "display_name": "Python 3 (ipykernel)",
   "language": "python",
   "name": "python3"
  },
  "language_info": {
   "codemirror_mode": {
    "name": "ipython",
    "version": 3
   },
   "file_extension": ".py",
   "mimetype": "text/x-python",
   "name": "python",
   "nbconvert_exporter": "python",
   "pygments_lexer": "ipython3",
   "version": "3.11.2"
  }
 },
 "nbformat": 4,
 "nbformat_minor": 5
}
