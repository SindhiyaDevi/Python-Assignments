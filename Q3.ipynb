{
 "cells": [
  {
   "cell_type": "code",
   "execution_count": 2,
   "id": "0bde01fd",
   "metadata": {},
   "outputs": [],
   "source": [
    "#Write a program to check if two strings are a rotation of each other?"
   ]
  },
  {
   "cell_type": "code",
   "execution_count": 9,
   "id": "bf1cf1ab",
   "metadata": {},
   "outputs": [
    {
     "name": "stdout",
     "output_type": "stream",
     "text": [
      "Enter the stringAvaya\n",
      "Enter the stringyaava\n",
      "n2 is a rotation of n1\n"
     ]
    }
   ],
   "source": [
    "def is_rotation(n1,n2):\n",
    "    if len(n1)!=len(n2):\n",
    "        return False\n",
    "    \n",
    "    n1n1 =n1+n2\n",
    "    if n2 in n1n1:\n",
    "        return True\n",
    "    else:\n",
    "        return False\n",
    "n1 = input(\"Enter the string\")\n",
    "n2 = input(\"Enter the string\")\n",
    "if is_rotation(n1,n2):\n",
    "    print(\"n2 is a rotation of n1\")\n",
    "else:\n",
    "    print(\"n2 is not a rotation of n1\")"
   ]
  },
  {
   "cell_type": "code",
   "execution_count": null,
   "id": "f31fff6a",
   "metadata": {},
   "outputs": [],
   "source": []
  }
 ],
 "metadata": {
  "kernelspec": {
   "display_name": "Python 3 (ipykernel)",
   "language": "python",
   "name": "python3"
  },
  "language_info": {
   "codemirror_mode": {
    "name": "ipython",
    "version": 3
   },
   "file_extension": ".py",
   "mimetype": "text/x-python",
   "name": "python",
   "nbconvert_exporter": "python",
   "pygments_lexer": "ipython3",
   "version": "3.11.2"
  }
 },
 "nbformat": 4,
 "nbformat_minor": 5
}
