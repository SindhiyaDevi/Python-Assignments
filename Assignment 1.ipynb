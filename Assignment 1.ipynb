{
 "cells": [
  {
   "cell_type": "code",
   "execution_count": 23,
   "id": "e34ff653",
   "metadata": {},
   "outputs": [
    {
     "name": "stdout",
     "output_type": "stream",
     "text": [
      "Enter the number of students1\n",
      "Sindhiya 20 30 40\n",
      "Enter the student name to calculate their percenageSindhiya\n",
      "30.00\n"
     ]
    }
   ],
   "source": [
    "#read the dictionary containing key/value pairs of name:[marks] for list of students. Print the average of the marks array for the student name provided. showing two places after decimal\n",
    "n = int(input(\"Enter the number of students\"))\n",
    "student_marks = {}\n",
    "for i in range(n):\n",
    "    name, *line = input().split()\n",
    "    scores = list(map(float, line))\n",
    "    student_marks[name] = scores\n",
    "    \n",
    "stu_name_percentage = input(\"Enter the student name to calculate their percenage\")\n",
    "l1 = list(student_marks[stu_name_percentage])\n",
    "addition = sum(l1)\n",
    "result = addition/len(l1)\n",
    "print('%.2f'%result)"
   ]
  },
  {
   "cell_type": "code",
   "execution_count": null,
   "id": "71db12af",
   "metadata": {},
   "outputs": [],
   "source": [
    "#In Python, a string can be split on a delimiter.\n",
    "\n",
    "\n",
    ">>> a = \"this is a string\"\n",
    ">>> a = a.split(\" \") # a is converted to a list of strings. \n",
    ">>> print a\n",
    "['this', 'is', 'a', 'string']\n",
    "\n",
    "\n",
    "#In Python, a string can be split on a delimiter.\n",
    ">>> a = \"-\".join(a)\n",
    ">>> print a\n",
    "this-is-a-string "
   ]
  },
  {
   "cell_type": "code",
   "execution_count": 35,
   "id": "0f6c7563",
   "metadata": {},
   "outputs": [
    {
     "name": "stdout",
     "output_type": "stream",
     "text": [
      "Enter something\n"
     ]
    },
    {
     "data": {
      "text/plain": [
       "'Enter-something'"
      ]
     },
     "execution_count": 35,
     "metadata": {},
     "output_type": "execute_result"
    }
   ],
   "source": [
    "#You are given a string. Split the string on a \" \" (space) delimiter and join using a - hyphen.\n",
    "def spilt_join(line):\n",
    "    a = line.split(\" \")\n",
    "    b = \"-\".join(a)\n",
    "    return b\n",
    "line = input()\n",
    "spilt_join(line)"
   ]
  },
  {
   "cell_type": "code",
   "execution_count": 2,
   "id": "4b703151",
   "metadata": {},
   "outputs": [
    {
     "name": "stdout",
     "output_type": "stream",
     "text": [
      "Number of students3\n",
      "Enter the roll no2,3,1\n",
      "{3: {1, 2, 3}}\n",
      "Number of students5\n",
      "Enter the roll no2,4,5,2,1\n",
      "{3: {1, 2, 3}}\n",
      "{1, 2}\n"
     ]
    }
   ],
   "source": [
    "#The students of District College have subscriptions to English and French newspapers. Some students have subscribed only to English, some have subscribed only to French, and some have subscribed to both newspapers.\n",
    "\n",
    "#You are given two sets of student roll numbers. One set has subscribed to the English newspaper, one set has subscribed to the French newspaper. Your task is to find the total number of students who have subscribed to both newspapers.\n",
    "eng1 = int(input(\"Number of students\"))\n",
    "r1 = input(\"Enter the roll no\").split(',')\n",
    "s1 =set(map(int, r1))\n",
    "dict1  = {eng1:s1}\n",
    "print(dict1)\n",
    "\n",
    "Fr1 = int(input(\"Number of students\"))\n",
    "r2 = input(\"Enter the roll no\").split(',')\n",
    "s2 =set(map(int, r2))\n",
    "dict2 = {Fr1:s2}\n",
    "print(dict1)\n",
    "\n",
    "diff = s1.intersection(s2)\n",
    "print(diff)"
   ]
  },
  {
   "cell_type": "code",
   "execution_count": 81,
   "id": "1281de41",
   "metadata": {},
   "outputs": [
    {
     "name": "stdout",
     "output_type": "stream",
     "text": [
      "No of participants: 4\n",
      "3,2,1\n"
     ]
    },
    {
     "ename": "IndexError",
     "evalue": "list index out of range",
     "output_type": "error",
     "traceback": [
      "\u001b[1;31m---------------------------------------------------------------------------\u001b[0m",
      "\u001b[1;31mIndexError\u001b[0m                                Traceback (most recent call last)",
      "Cell \u001b[1;32mIn[81], line 9\u001b[0m\n\u001b[0;32m      7\u001b[0m \u001b[38;5;28mmax\u001b[39m \u001b[38;5;241m=\u001b[39m list1[i]\n\u001b[0;32m      8\u001b[0m \u001b[38;5;28;01mfor\u001b[39;00m j \u001b[38;5;129;01min\u001b[39;00m \u001b[38;5;28mrange\u001b[39m(i\u001b[38;5;241m+\u001b[39m\u001b[38;5;241m1\u001b[39m, a):\n\u001b[1;32m----> 9\u001b[0m     \u001b[38;5;28;01mif\u001b[39;00m list1[i]\u001b[38;5;241m<\u001b[39m\u001b[43mlist1\u001b[49m\u001b[43m[\u001b[49m\u001b[43mj\u001b[49m\u001b[43m]\u001b[49m:\n\u001b[0;32m     10\u001b[0m         \u001b[38;5;28mmax\u001b[39m \u001b[38;5;241m=\u001b[39m list1[j]\n\u001b[0;32m     11\u001b[0m     \u001b[38;5;28;01melse\u001b[39;00m:\n",
      "\u001b[1;31mIndexError\u001b[0m: list index out of range"
     ]
    }
   ],
   "source": [
    "#Given the participants' score sheet for your University Sports Day, you are required to find the runner-up score. You are given  scores. \n",
    "#Store them in a list and find the score of the runner-up.\n",
    "\n",
    "a = int(input(\"No of participants: \"))\n",
    "list1 = list(map(int, input().split(',')))\n",
    "for i in range(a):\n",
    "    max = list1[i]\n",
    "    for j in range(i+1, a):\n",
    "        if list1[i]<list1[j]:\n",
    "            max = list1[j]\n",
    "        else:\n",
    "            max = list1[i]\n",
    "print(max)\n",
    "\n",
    "list1 = list1.remove[max]\n",
    "print(list1)"
   ]
  },
  {
   "cell_type": "code",
   "execution_count": null,
   "id": "0fc3eb6b",
   "metadata": {},
   "outputs": [],
   "source": [
    "\n",
    "            \n",
    "        "
   ]
  },
  {
   "cell_type": "code",
   "execution_count": null,
   "id": "3eeaab35",
   "metadata": {},
   "outputs": [],
   "source": []
  },
  {
   "cell_type": "code",
   "execution_count": null,
   "id": "046f0f13",
   "metadata": {},
   "outputs": [],
   "source": []
  }
 ],
 "metadata": {
  "kernelspec": {
   "display_name": "Python 3 (ipykernel)",
   "language": "python",
   "name": "python3"
  },
  "language_info": {
   "codemirror_mode": {
    "name": "ipython",
    "version": 3
   },
   "file_extension": ".py",
   "mimetype": "text/x-python",
   "name": "python",
   "nbconvert_exporter": "python",
   "pygments_lexer": "ipython3",
   "version": "3.11.2"
  }
 },
 "nbformat": 4,
 "nbformat_minor": 5
}
