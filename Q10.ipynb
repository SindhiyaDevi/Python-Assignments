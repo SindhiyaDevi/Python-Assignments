{
 "cells": [
  {
   "cell_type": "code",
   "execution_count": 1,
   "id": "40826919",
   "metadata": {},
   "outputs": [],
   "source": [
    "#Write a program to find the smallest number using a stack."
   ]
  },
  {
   "cell_type": "code",
   "execution_count": 6,
   "id": "d42fe95b",
   "metadata": {},
   "outputs": [
    {
     "name": "stdout",
     "output_type": "stream",
     "text": [
      "3\n"
     ]
    }
   ],
   "source": [
    "class MinStack:\n",
    "    def __init__(self):\n",
    "        self.stack = []\n",
    "        self.min_stack = []\n",
    "\n",
    "    def push(self, item):\n",
    "        self.stack.append(item)\n",
    "        if not self.min_stack or item <= self.min_stack[-1]:\n",
    "            self.min_stack.append(item)\n",
    "\n",
    "    def pop(self):\n",
    "        if not self.stack:\n",
    "            return None\n",
    "        item = self.stack.pop()\n",
    "        if item == self.min_stack[-1]:\n",
    "            self.min_stack.pop()\n",
    "        return item\n",
    "\n",
    "    def get_min(self):\n",
    "        if not self.min_stack:\n",
    "            return None\n",
    "        return self.min_stack[-1]\n",
    "\n",
    "# Example usage\n",
    "stack = MinStack()\n",
    "stack.push(6)\n",
    "stack.push(5)\n",
    "stack.push(4)\n",
    "stack.push(3)\n",
    "print(stack.get_min()) \n",
    "\n"
   ]
  },
  {
   "cell_type": "code",
   "execution_count": null,
   "id": "6e5311eb",
   "metadata": {},
   "outputs": [],
   "source": []
  }
 ],
 "metadata": {
  "kernelspec": {
   "display_name": "Python 3 (ipykernel)",
   "language": "python",
   "name": "python3"
  },
  "language_info": {
   "codemirror_mode": {
    "name": "ipython",
    "version": 3
   },
   "file_extension": ".py",
   "mimetype": "text/x-python",
   "name": "python",
   "nbconvert_exporter": "python",
   "pygments_lexer": "ipython3",
   "version": "3.11.2"
  }
 },
 "nbformat": 4,
 "nbformat_minor": 5
}
