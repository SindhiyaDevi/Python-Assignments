{
 "cells": [
  {
   "cell_type": "code",
   "execution_count": null,
   "id": "14adb311",
   "metadata": {},
   "outputs": [],
   "source": [
    "Write a program to check if all the brackets are closed in a given code snippet."
   ]
  },
  {
   "cell_type": "code",
   "execution_count": 4,
   "id": "dbe0c9b9",
   "metadata": {},
   "outputs": [
    {
     "name": "stdout",
     "output_type": "stream",
     "text": [
      "Enter a snippet{[()]}\n",
      "True\n"
     ]
    }
   ],
   "source": [
    "def check_brackets(snippet):\n",
    "    a = []\n",
    "    for char in snippet:\n",
    "        if char in ['(', '[', '{']:\n",
    "            a.append(char)\n",
    "        elif char in [')', ']', '}']:\n",
    "            if not a:\n",
    "                return False\n",
    "            if char == ')' and a[-1] == '(':\n",
    "                a.pop()\n",
    "            elif char == ']' and a[-1] == '[':\n",
    "                a.pop()\n",
    "            elif char == '}' and a[-1] == '{':\n",
    "                a.pop()\n",
    "            else:\n",
    "                return False\n",
    "    return not a\n",
    "# Example usage\n",
    "s = input(\"Enter a snippet\")\n",
    "print(check_brackets(s))"
   ]
  },
  {
   "cell_type": "code",
   "execution_count": null,
   "id": "bf442b09",
   "metadata": {},
   "outputs": [],
   "source": []
  }
 ],
 "metadata": {
  "kernelspec": {
   "display_name": "Python 3 (ipykernel)",
   "language": "python",
   "name": "python3"
  },
  "language_info": {
   "codemirror_mode": {
    "name": "ipython",
    "version": 3
   },
   "file_extension": ".py",
   "mimetype": "text/x-python",
   "name": "python",
   "nbconvert_exporter": "python",
   "pygments_lexer": "ipython3",
   "version": "3.11.2"
  }
 },
 "nbformat": 4,
 "nbformat_minor": 5
}
