{
 "cells": [
  {
   "cell_type": "code",
   "execution_count": 1,
   "id": "9e871530",
   "metadata": {},
   "outputs": [],
   "source": [
    "#Q2)  Write a program to reverse an array in place? In place means you cannot create a new array.\n",
    "#You have to update the original array."
   ]
  },
  {
   "cell_type": "code",
   "execution_count": 12,
   "id": "a9c5ce55",
   "metadata": {},
   "outputs": [
    {
     "name": "stdout",
     "output_type": "stream",
     "text": [
      "Number of elements to be added1,2,3,4,5\n",
      "[1, 2, 3, 4, 5]\n"
     ]
    },
    {
     "data": {
      "text/plain": [
       "'Array after reversed [5, 4, 3, 2, 1]'"
      ]
     },
     "execution_count": 12,
     "metadata": {},
     "output_type": "execute_result"
    }
   ],
   "source": [
    "class Array:\n",
    "    def __init__ (self):\n",
    "        self.data =[]\n",
    "    def push(self,elements):\n",
    "        a = list(map(int, elements))\n",
    "        print(a)\n",
    "        self.data = [x for x in a]   \n",
    "    def display(self):\n",
    "        return \"Array before reversed {}\".format(self.data)\n",
    "    \n",
    "    def reverse_array(self):\n",
    "        n= len(self.data)\n",
    "        for i in range(n//2):\n",
    "            self.data[i],self.data[n-i-1] = self.data[n-i-1], self.data[i]\n",
    "        return \"Array after reversed {}\".format(self.data)\n",
    "    \n",
    "s = input(\"Number of elements to be added\").split(',')\n",
    "c =Array()\n",
    "c.push(s)\n",
    "c.display()\n",
    "c.reverse_array()\n"
   ]
  },
  {
   "cell_type": "code",
   "execution_count": null,
   "id": "fc50fbf0",
   "metadata": {},
   "outputs": [],
   "source": []
  },
  {
   "cell_type": "code",
   "execution_count": null,
   "id": "fc526a02",
   "metadata": {},
   "outputs": [],
   "source": []
  },
  {
   "cell_type": "code",
   "execution_count": null,
   "id": "55113760",
   "metadata": {},
   "outputs": [],
   "source": []
  }
 ],
 "metadata": {
  "kernelspec": {
   "display_name": "Python 3 (ipykernel)",
   "language": "python",
   "name": "python3"
  },
  "language_info": {
   "codemirror_mode": {
    "name": "ipython",
    "version": 3
   },
   "file_extension": ".py",
   "mimetype": "text/x-python",
   "name": "python",
   "nbconvert_exporter": "python",
   "pygments_lexer": "ipython3",
   "version": "3.11.2"
  }
 },
 "nbformat": 4,
 "nbformat_minor": 5
}
